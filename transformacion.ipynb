{
 "cells": [
  {
   "cell_type": "code",
   "execution_count": 1,
   "metadata": {},
   "outputs": [],
   "source": [
    "import pandas as pd\n",
    "from datetime import datetime"
   ]
  },
  {
   "cell_type": "code",
   "execution_count": 2,
   "metadata": {},
   "outputs": [
    {
     "name": "stdout",
     "output_type": "stream",
     "text": [
      "      FECHA_REGISTRO_HH       FECHA_REGISTRO  ORIGENDOCID  \\\n",
      "0  8/12/2024 2:53:54 PM  2024-12-08 00:00:00            1   \n",
      "1  8/12/2024 2:51:31 PM  2024-12-08 00:00:00            1   \n",
      "2  8/12/2024 2:50:08 PM  2024-12-08 00:00:00            2   \n",
      "3  8/12/2024 2:48:42 PM  2024-12-08 00:00:00            1   \n",
      "4  8/12/2024 2:50:08 PM  2024-12-08 00:00:00            2   \n",
      "\n",
      "                    ORIGEN  DOCO_ID  DOCO_TIDO_ID  ID_ESTADO   ESTADO  \\\n",
      "0  Documentos Contratistas  5652963             8         11  Enviado   \n",
      "1  Documentos Contratistas  5652951             4         11  Enviado   \n",
      "2       Documentos Riesgos  5652947            54         11  Enviado   \n",
      "3  Documentos Contratistas  5652942             1         11  Enviado   \n",
      "4       Documentos Riesgos  5652938            28         11  Enviado   \n",
      "\n",
      "   DOCUMENTOSITUACIONID        DOCUMENTOSITUCION  ... Hora extendida  \\\n",
      "0                     2  Documento En renovacion  ...       14:53:54   \n",
      "1                     2  Documento En renovacion  ...       14:51:31   \n",
      "2                     3            Indeterminado  ...       14:50:08   \n",
      "3                     2  Documento En renovacion  ...       14:48:42   \n",
      "4                     3            Indeterminado  ...       14:50:08   \n",
      "\n",
      "             Fecha y hora    Fecha.1     Gestionado Tiempo desde ingreso  \\\n",
      "0 2024-08-12 14:53:53.664 2024-08-12  Sin gestionar            51.490293   \n",
      "1 2024-08-12 14:51:31.104 2024-08-12  Sin gestionar            51.530015   \n",
      "2 2024-08-12 14:50:08.160 2024-08-12  Sin gestionar            51.553071   \n",
      "3 2024-08-12 14:48:41.760 2024-08-12  Sin gestionar            51.576960   \n",
      "4 2024-08-12 14:50:08.160 2024-08-12  Sin gestionar            51.553071   \n",
      "\n",
      "  Tiempo para cumplir en plazo Unnamed: 40 Unnamed: 41 Unnamed: 42  \\\n",
      "0                    -3.490293         NaN         8.0        12.0   \n",
      "1                    -3.530015         NaN         8.0        12.0   \n",
      "2                    -3.553071         NaN         8.0        12.0   \n",
      "3                    -3.576960         NaN         8.0        12.0   \n",
      "4                    -3.553071         NaN         8.0        12.0   \n",
      "\n",
      "   Unnamed: 43  \n",
      "0       2024.0  \n",
      "1       2024.0  \n",
      "2       2024.0  \n",
      "3       2024.0  \n",
      "4       2024.0  \n",
      "\n",
      "[5 rows x 44 columns]\n"
     ]
    }
   ],
   "source": [
    "# Ruta del archivo .xlsx\n",
    "file_path = \"revision_documentos.xlsx\"\n",
    "file_path_destino = \"revision_documentos_\" + datetime.now().strftime(\"%Y%m%d%H%M%S\") + \".xlsx\"\n",
    "# Lee el archivo Excel\n",
    "df = pd.read_excel(file_path)\n",
    "\n",
    "# Muestra las primeras filas del DataFrame\n",
    "print(df.head())"
   ]
  },
  {
   "cell_type": "code",
   "execution_count": 3,
   "metadata": {},
   "outputs": [
    {
     "name": "stdout",
     "output_type": "stream",
     "text": [
      "(55587, 24)\n"
     ]
    }
   ],
   "source": [
    "# Para el primer analisis, se eliminan las columnas que no son relevantes\n",
    "# se eliminan las columnas: DOCUMENTOVIGENCIA, FECHA_INICIO_DOCUMENTO, FECHA_FIN_DOCUMENTO\n",
    "# DOCO_EMPR_RUT, TIPO, 'Hora extendida', 'Fecha y hora', 'Fecha.1', 'Gestionado','Tiempo desde ingreso', 'Tiempo para cumplir en plazo', 'Unnamed: 40', 'Unnamed: 41', 'Unnamed: 42', 'Unnamed: 43' 'Unnamed: 29','Unnamed: 30', 'Fecha', 'Hora', 'AM/PM'\n",
    "columnas_no_tenidas_en_cuenta = [\n",
    "    'DOCUMENTOVIGENCIA', 'FECHA_INICIO_DOCUMENTO', 'FECHA_FIN_DOCUMENTO', 'DOCO_EMPR_RUT',\n",
    "    'TIPO', 'Hora extendida', 'Fecha y hora', 'Fecha.1', 'Gestionado',\n",
    "     'Tiempo desde ingreso', 'Tiempo para cumplir en plazo', 'Unnamed: 40',\n",
    "     'Unnamed: 41', 'Unnamed: 42', 'Unnamed: 43', 'Unnamed: 29','Unnamed: 30',\n",
    "     'Fecha', 'Hora', 'AM/PM']\n",
    "\n",
    "df.drop(columnas_no_tenidas_en_cuenta,\n",
    "         axis=1, inplace=True)\n",
    "\n",
    "#verificamos la dimension del dataframe\n",
    "print(df.shape)"
   ]
  },
  {
   "cell_type": "code",
   "execution_count": 4,
   "metadata": {},
   "outputs": [],
   "source": [
    "# Creamos la columna tipo, en base a la columna estado. \n",
    "# Si el estado es \"Enviado\", el tipo es de \"Entrada\"\n",
    "# Si el estado es \"Rechazado\" o \"Validado\", el tipo es de \"Salida\"\n",
    "\n",
    "df[\"TIPO\"] = df[\"ESTADO\"].apply(lambda x: \"Entrada\" if x == \"Enviado\" else \"Salida\")"
   ]
  },
  {
   "cell_type": "code",
   "execution_count": 5,
   "metadata": {},
   "outputs": [],
   "source": [
    "# Convertimos la columna FECHA_REGISTRO_HH, en formato mm/dd/yyyy hh:mm:ss PM/AM a datetime\n",
    "df[\"FECHA_REGISTRO_HH\"] = pd.to_datetime(df[\"FECHA_REGISTRO_HH\"], format=\"%m/%d/%Y %I:%M:%S %p\")"
   ]
  },
  {
   "cell_type": "code",
   "execution_count": 6,
   "metadata": {},
   "outputs": [],
   "source": [
    "#creamos dos dataframes, uno con los documentos de entrada y otro con los de salida\n",
    "df_entrada = df[df[\"TIPO\"] == \"Entrada\"]\n",
    "df_salida = df[df[\"TIPO\"] == \"Salida\"]"
   ]
  },
  {
   "cell_type": "code",
   "execution_count": 7,
   "metadata": {},
   "outputs": [
    {
     "name": "stdout",
     "output_type": "stream",
     "text": [
      "(28869, 25)\n",
      "(26718, 25)\n"
     ]
    }
   ],
   "source": [
    "print(df_entrada.shape)\n",
    "print(df_salida.shape)\n",
    "\n",
    "columnas_eliminadas_salida = ['FECHA_REGISTRO', 'ORIGENDOCID', 'ORIGEN',\n",
    "       'DOCO_TIDO_ID', 'ID_ESTADO',\n",
    "       'DOCUMENTOSITUACIONID', 'DOCUMENTOSITUCION', 'USUARIOREGISTRO',\n",
    "       'USUARIOREGISTROCUENTA', 'USUARIOREGISTRONOMBRE',\n",
    "       'DOCO_TIPO_VALIDACION', 'DOCO_CONT_ID', 'FECHA_INGRESO_DOCUMENTO'\n",
    "       , 'DOCUMENTOESPECIALIDADID', 'DOCUMENTOESPECIALIDAD',\n",
    "       'DOCUMENTOOCUPACIONID', 'DOCUMENTOOCUPACION',\n",
    "       'DOCUMENTOCERTOCUPACIONID', 'DOCUMENTOCERTOCUPACION', 'TIPO']"
   ]
  },
  {
   "cell_type": "code",
   "execution_count": 8,
   "metadata": {},
   "outputs": [],
   "source": [
    "# del dataframe de salidas, nos interesa conservar las columnas\n",
    "# FECHA_REGISTRO_HH, ESTADO, USUARIOREGISTROID, pero renombramos a \n",
    "# FECHA_SALIDA, ESTADO_SALIDA, USUARIOID_SALIDA  para luego poder hacer el merge\n",
    "df_salida = df_salida.rename(columns={\"FECHA_REGISTRO_HH\": \"FECHA_SALIDA\", \"ESTADO\": \"ESTADO_SALIDA\", \"USUARIOREGISTROID\": \"USUARIOID_SALIDA\"})\n",
    "df_salida.drop(\n",
    "       columnas_eliminadas_salida\n",
    "       , axis=1, inplace=True)\n"
   ]
  },
  {
   "cell_type": "code",
   "execution_count": 9,
   "metadata": {},
   "outputs": [],
   "source": [
    "# hacemos el merge, en base al doco_id, lo hacemos de tipo left para conservar los documentos de entrada\n",
    "df_merged = pd.merge(df_entrada, df_salida, on=\"DOCO_ID\", how=\"left\")\n"
   ]
  },
  {
   "cell_type": "markdown",
   "metadata": {},
   "source": [
    "El código de abajo es para ver si hay documentos que tienen salida pero no entrada, que en teoría no debería ocurrir\n",
    "Una de las causas puede ser que la entrada este en otro documento"
   ]
  },
  {
   "cell_type": "code",
   "execution_count": 10,
   "metadata": {},
   "outputs": [
    {
     "name": "stdout",
     "output_type": "stream",
     "text": [
      "      FECHA_REGISTRO_HH FECHA_REGISTRO  ORIGENDOCID ORIGEN  DOCO_ID  \\\n",
      "122                 NaT            NaN          NaN    NaN  5651209   \n",
      "19419               NaT            NaN          NaN    NaN  5594599   \n",
      "20479               NaT            NaN          NaN    NaN  5591897   \n",
      "21594               NaT            NaN          NaN    NaN  5589216   \n",
      "21761               NaT            NaN          NaN    NaN  5588854   \n",
      "...                 ...            ...          ...    ...      ...   \n",
      "26693               NaT            NaN          NaN    NaN   892984   \n",
      "26694               NaT            NaN          NaN    NaN   889636   \n",
      "26695               NaT            NaN          NaN    NaN   777211   \n",
      "26696               NaT            NaN          NaN    NaN   732394   \n",
      "26711               NaT            NaN          NaN    NaN   345448   \n",
      "\n",
      "       DOCO_TIDO_ID  ID_ESTADO ESTADO  DOCUMENTOSITUACIONID DOCUMENTOSITUCION  \\\n",
      "122             NaN        NaN    NaN                   NaN               NaN   \n",
      "19419           NaN        NaN    NaN                   NaN               NaN   \n",
      "20479           NaN        NaN    NaN                   NaN               NaN   \n",
      "21594           NaN        NaN    NaN                   NaN               NaN   \n",
      "21761           NaN        NaN    NaN                   NaN               NaN   \n",
      "...             ...        ...    ...                   ...               ...   \n",
      "26693           NaN        NaN    NaN                   NaN               NaN   \n",
      "26694           NaN        NaN    NaN                   NaN               NaN   \n",
      "26695           NaN        NaN    NaN                   NaN               NaN   \n",
      "26696           NaN        NaN    NaN                   NaN               NaN   \n",
      "26711           NaN        NaN    NaN                   NaN               NaN   \n",
      "\n",
      "       ... DOCUMENTOESPECIALIDAD  DOCUMENTOOCUPACIONID DOCUMENTOOCUPACION  \\\n",
      "122    ...                   NaN                   NaN                NaN   \n",
      "19419  ...                   NaN                   NaN                NaN   \n",
      "20479  ...                   NaN                   NaN                NaN   \n",
      "21594  ...                   NaN                   NaN                NaN   \n",
      "21761  ...                   NaN                   NaN                NaN   \n",
      "...    ...                   ...                   ...                ...   \n",
      "26693  ...                   NaN                   NaN                NaN   \n",
      "26694  ...                   NaN                   NaN                NaN   \n",
      "26695  ...                   NaN                   NaN                NaN   \n",
      "26696  ...                   NaN                   NaN                NaN   \n",
      "26711  ...                   NaN                   NaN                NaN   \n",
      "\n",
      "      DOCUMENTOCERTOCUPACIONID DOCUMENTOCERTOCUPACION  TIPO  \\\n",
      "122                        NaN                    NaN   NaN   \n",
      "19419                      NaN                    NaN   NaN   \n",
      "20479                      NaN                    NaN   NaN   \n",
      "21594                      NaN                    NaN   NaN   \n",
      "21761                      NaN                    NaN   NaN   \n",
      "...                        ...                    ...   ...   \n",
      "26693                      NaN                    NaN   NaN   \n",
      "26694                      NaN                    NaN   NaN   \n",
      "26695                      NaN                    NaN   NaN   \n",
      "26696                      NaN                    NaN   NaN   \n",
      "26711                      NaN                    NaN   NaN   \n",
      "\n",
      "             FECHA_SALIDA ESTADO_SALIDA  USUARIOID_SALIDA  \\\n",
      "122   2024-08-12 14:03:38      Validado             210.0   \n",
      "19419 2024-07-19 13:04:47      Validado            4724.0   \n",
      "20479 2024-07-26 14:03:24      Validado             210.0   \n",
      "21594 2024-07-15 11:46:06      Validado            4724.0   \n",
      "21761 2024-07-15 10:03:40      Validado            4942.0   \n",
      "...                   ...           ...               ...   \n",
      "26693 2024-07-31 16:59:33     Rechazado            4724.0   \n",
      "26694 2024-07-31 17:01:51     Rechazado             210.0   \n",
      "26695 2024-08-09 17:15:46     Rechazado            4942.0   \n",
      "26696 2024-07-23 01:15:36      Validado            4941.0   \n",
      "26711 2024-07-23 19:56:31     Rechazado            4730.0   \n",
      "\n",
      "                                        MOTIVO_RECHAZO_y  \n",
      "122                                                  NaN  \n",
      "19419                                                NaN  \n",
      "20479                                                NaN  \n",
      "21594                                                NaN  \n",
      "21761                                                NaN  \n",
      "...                                                  ...  \n",
      "26693    Estimado, favor de cargar el documento. Atte Lg  \n",
      "26694  Favor de volver a cargar registro, error de vi...  \n",
      "26695  Estimados, no se ve reflejada la imagen. atte ...  \n",
      "26696                                                NaN  \n",
      "26711  Vigencia no conversa con la indicada en SAT. D...  \n",
      "\n",
      "[986 rows x 29 columns]\n"
     ]
    }
   ],
   "source": [
    "# Realizamos el merge de tipo right para conservar todos los documentos de salida\n",
    "df_right_merged = pd.merge(df_entrada, df_salida, on=\"DOCO_ID\", how=\"right\")\n",
    "\n",
    "# Filtramos los registros donde ID_ESTADO de entrada sea NaN\n",
    "df_salida_sin_entrada = df_right_merged[df_right_merged['ID_ESTADO'].isna()]\n",
    "\n",
    "# Mostramos los documentos de salida que no tienen un documento de entrada correspondiente\n",
    "print(df_salida_sin_entrada)"
   ]
  },
  {
   "cell_type": "code",
   "execution_count": 11,
   "metadata": {},
   "outputs": [],
   "source": [
    "#Agregamos una columna con la diferencia de tiempo entre entrada\n",
    "# y salida de los documentos en horas\n",
    "df_merged[\"DIFERENCIA_HORAS\"] = (df_merged[\"FECHA_SALIDA\"] - df_merged[\"FECHA_REGISTRO_HH\"]).dt.total_seconds() / 3600"
   ]
  },
  {
   "cell_type": "code",
   "execution_count": 12,
   "metadata": {},
   "outputs": [],
   "source": [
    "# Definimos el umbral de 48 horas\n",
    "umbral = 48\n",
    "\n",
    "# Agregamos un campo de desviación respecto al umbral\n",
    "df_merged[\"DESVIACION\"] = df_merged[\"DIFERENCIA_HORAS\"] - umbral\n",
    "\n",
    "# Determinamos el estado, teniendo en cuenta la desviación y los documentos\n",
    "# sin salida\n",
    "\n",
    "df_merged['estado'] = df_merged.apply(\n",
    "    lambda row: 'Sin gestionar' if pd.isna(row['DIFERENCIA_HORAS']) \n",
    "    else ('Fuera de plazo' if row['DESVIACION'] > 0 \n",
    "          else ('En plazo' if row['DESVIACION'] < 0 \n",
    "                else 'Igual')), \n",
    "    axis=1\n",
    ") \n"
   ]
  },
  {
   "cell_type": "code",
   "execution_count": 13,
   "metadata": {},
   "outputs": [
    {
     "name": "stdout",
     "output_type": "stream",
     "text": [
      "        FECHA_REGISTRO_HH       FECHA_REGISTRO  ORIGENDOCID  \\\n",
      "0     2024-08-12 14:53:54  2024-12-08 00:00:00            1   \n",
      "1     2024-08-12 14:51:31  2024-12-08 00:00:00            1   \n",
      "2     2024-08-12 14:50:08  2024-12-08 00:00:00            2   \n",
      "3     2024-08-12 14:48:42  2024-12-08 00:00:00            1   \n",
      "4     2024-08-12 14:50:08  2024-12-08 00:00:00            2   \n",
      "...                   ...                  ...          ...   \n",
      "28954 2024-07-26 09:58:42            7/26/2024            4   \n",
      "28955 2024-07-26 09:58:42            7/26/2024            4   \n",
      "28956 2024-07-26 09:58:42            7/26/2024            4   \n",
      "28957 2024-07-26 09:58:42            7/26/2024            4   \n",
      "28958 2024-07-26 09:58:42            7/26/2024            4   \n",
      "\n",
      "                               ORIGEN  DOCO_ID  DOCO_TIDO_ID  ID_ESTADO  \\\n",
      "0             Documentos Contratistas  5652963             8         11   \n",
      "1             Documentos Contratistas  5652951             4         11   \n",
      "2                  Documentos Riesgos  5652947            54         11   \n",
      "3             Documentos Contratistas  5652942             1         11   \n",
      "4                  Documentos Riesgos  5652938            28         11   \n",
      "...                               ...      ...           ...        ...   \n",
      "28954  Documentos Solicitantes Compra     1365             8         11   \n",
      "28955  Documentos Solicitantes Compra     1364             5         11   \n",
      "28956  Documentos Solicitantes Compra     1363             4         11   \n",
      "28957  Documentos Solicitantes Compra     1362             2         11   \n",
      "28958  Documentos Solicitantes Compra     1361             1         11   \n",
      "\n",
      "        ESTADO  DOCUMENTOSITUACIONID        DOCUMENTOSITUCION  ...  \\\n",
      "0      Enviado                     2  Documento En renovacion  ...   \n",
      "1      Enviado                     2  Documento En renovacion  ...   \n",
      "2      Enviado                     3            Indeterminado  ...   \n",
      "3      Enviado                     2  Documento En renovacion  ...   \n",
      "4      Enviado                     3            Indeterminado  ...   \n",
      "...        ...                   ...                      ...  ...   \n",
      "28954  Enviado                     2  Documento En renovacion  ...   \n",
      "28955  Enviado                     2  Documento En renovacion  ...   \n",
      "28956  Enviado                     2  Documento En renovacion  ...   \n",
      "28957  Enviado                     2  Documento En renovacion  ...   \n",
      "28958  Enviado                     2  Documento En renovacion  ...   \n",
      "\n",
      "      DOCUMENTOCERTOCUPACION     TIPO FECHA_SALIDA ESTADO_SALIDA  \\\n",
      "0                        NaN  Entrada          NaT           NaN   \n",
      "1                        NaN  Entrada          NaT           NaN   \n",
      "2                        NaN  Entrada          NaT           NaN   \n",
      "3                        NaN  Entrada          NaT           NaN   \n",
      "4                        NaN  Entrada          NaT           NaN   \n",
      "...                      ...      ...          ...           ...   \n",
      "28954                    NaN  Entrada          NaT           NaN   \n",
      "28955                    NaN  Entrada          NaT           NaN   \n",
      "28956                    NaN  Entrada          NaT           NaN   \n",
      "28957                    NaN  Entrada          NaT           NaN   \n",
      "28958                    NaN  Entrada          NaT           NaN   \n",
      "\n",
      "      USUARIOID_SALIDA  MOTIVO_RECHAZO_y DIFERENCIA_HORAS DESVIACION  \\\n",
      "0                  NaN               NaN              NaN        NaN   \n",
      "1                  NaN               NaN              NaN        NaN   \n",
      "2                  NaN               NaN              NaN        NaN   \n",
      "3                  NaN               NaN              NaN        NaN   \n",
      "4                  NaN               NaN              NaN        NaN   \n",
      "...                ...               ...              ...        ...   \n",
      "28954              NaN               NaN              NaN        NaN   \n",
      "28955              NaN               NaN              NaN        NaN   \n",
      "28956              NaN               NaN              NaN        NaN   \n",
      "28957              NaN               NaN              NaN        NaN   \n",
      "28958              NaN               NaN              NaN        NaN   \n",
      "\n",
      "              estado etiqueta_mes  \n",
      "0      Sin gestionar  August 2024  \n",
      "1      Sin gestionar  August 2024  \n",
      "2      Sin gestionar  August 2024  \n",
      "3      Sin gestionar  August 2024  \n",
      "4      Sin gestionar  August 2024  \n",
      "...              ...          ...  \n",
      "28954  Sin gestionar    July 2024  \n",
      "28955  Sin gestionar    July 2024  \n",
      "28956  Sin gestionar    July 2024  \n",
      "28957  Sin gestionar    July 2024  \n",
      "28958  Sin gestionar    July 2024  \n",
      "\n",
      "[28959 rows x 33 columns]\n"
     ]
    }
   ],
   "source": [
    "# Obtener el mes actual y los tres meses anteriores\n",
    "hoy = datetime.now()\n",
    "mes_actual = hoy.month\n",
    "año_actual = hoy.year\n",
    "\n",
    "# Crear una lista de los tres meses anteriores y el mes actual\n",
    "meses_validos = [(mes_actual - i - 1) % 12 + 1 for i in range(4)]\n",
    "año_valido = año_actual if mes_actual in meses_validos else año_actual - 1\n",
    "\n",
    "# Función para obtener la etiqueta del mes\n",
    "def etiqueta_mes(fecha):\n",
    "    mes = fecha.month\n",
    "    año = fecha.year\n",
    "    \n",
    "    if mes == mes_actual and año == año_actual:\n",
    "        return f\"{hoy.strftime('%B')} {año_actual}\"\n",
    "    \n",
    "    if mes in meses_validos:\n",
    "        return f\"{fecha.strftime('%B')} {año}\"\n",
    "    \n",
    "    return 'Fuera de rango'\n",
    "\n",
    "# Aplicar la función al DataFrame\n",
    "df_merged['etiqueta_mes'] = df_merged['FECHA_REGISTRO_HH'].apply(etiqueta_mes)\n",
    "\n",
    "print(df_merged)"
   ]
  },
  {
   "cell_type": "code",
   "execution_count": 14,
   "metadata": {},
   "outputs": [],
   "source": [
    "df_merged.to_excel(file_path_destino, index=False)"
   ]
  }
 ],
 "metadata": {
  "kernelspec": {
   "display_name": "Python 3",
   "language": "python",
   "name": "python3"
  },
  "language_info": {
   "codemirror_mode": {
    "name": "ipython",
    "version": 3
   },
   "file_extension": ".py",
   "mimetype": "text/x-python",
   "name": "python",
   "nbconvert_exporter": "python",
   "pygments_lexer": "ipython3",
   "version": "3.8.2"
  }
 },
 "nbformat": 4,
 "nbformat_minor": 2
}
