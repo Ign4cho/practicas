{
 "cells": [
  {
   "cell_type": "code",
   "execution_count": 1,
   "metadata": {},
   "outputs": [],
   "source": [
    "import pandas as pd\n",
    "from datetime import datetime\n",
    "import gspread as gs\n"
   ]
  },
  {
   "cell_type": "code",
   "execution_count": 12,
   "metadata": {},
   "outputs": [],
   "source": [
    "# ruta del archvio xlsx a leer y escribir\n",
    "file_path = \"Llamadas.xlsx\"\n",
    "file_path_destino = \"llamadas_procesado.xlsx\"\n",
    "credentials_filename ='\\credenciales\\client_secret_290615798724-sg1nk4latali6a8akhe169r66gg7hmd8.apps.googleusercontent.com.json'\n",
    "\n",
    "gc = gs.oauth(credentials_filename)\n",
    "\n",
    "# Fecha de inicio y fin de la revisión\n",
    "\n",
    "fecha_inicial = datetime(2024, 8, 1)\n",
    "fecha_final = datetime(2024, 8, 10)\n",
    "\n",
    "# Lee el archivo Excel\n",
    "df = pd.read_excel(file_path)"
   ]
  },
  {
   "cell_type": "code",
   "execution_count": 13,
   "metadata": {},
   "outputs": [],
   "source": [
    "dias = {\n",
    "    0: \"Lunes\",\n",
    "    1: \"Martes\",\n",
    "    2: \"Miércoles\",\n",
    "    3: \"Jueves\",\n",
    "    4: \"Viernes\",\n",
    "    5: \"Sábado\",\n",
    "    6: \"Domingo\"\n",
    "}\n",
    "\n",
    "# agregamos una columna con el día de la semana de la llamada\n",
    "\n",
    "df[\"DiaSemana\"] = df[\"Date\"].dt.dayofweek.map(dias)\n"
   ]
  },
  {
   "cell_type": "code",
   "execution_count": 14,
   "metadata": {},
   "outputs": [],
   "source": [
    "# clasificacmos las llamadas en madrugada, mañana, tarde y noche\n",
    "def horario_llamadas(hora):\n",
    "    if hora in range(8 ,13):\n",
    "        return \"Mañana\"\n",
    "    elif hora in range(13, 18):\n",
    "        return \"Tarde\"\n",
    "    elif hora in range(18, 23):\n",
    "        return \"Noche\"\n",
    "    else:\n",
    "        return \"Madrugada\"\n",
    "    \n",
    "df[\"Horario\"] = df[\"Date\"].dt.hour.map(horario_llamadas)\n"
   ]
  },
  {
   "cell_type": "code",
   "execution_count": 15,
   "metadata": {},
   "outputs": [],
   "source": [
    "# clasificamos de acuerdo a duration  \n",
    "def duracion_llamadas(duracion):\n",
    "    if duracion <= 5:\n",
    "        return \"Corta\"\n",
    "    elif duracion < 15:\n",
    "        return \"Media\"\n",
    "    elif duracion < 30:\n",
    "        return \"Larga\"\n",
    "    elif duracion >= 30:\n",
    "        return \"Muy Larga\"\n",
    "    else:\n",
    "        return \"Indefinida\"\n",
    "    \n",
    "df[\"Franja_duracion\"] = df[\"Duracion\"].map(duracion_llamadas)"
   ]
  },
  {
   "cell_type": "code",
   "execution_count": 16,
   "metadata": {},
   "outputs": [
    {
     "data": {
      "text/plain": [
       "Franja_duracion\n",
       "Corta         1788\n",
       "Media         1659\n",
       "Larga          501\n",
       "Muy Larga      163\n",
       "Indefinida      68\n",
       "Name: count, dtype: int64"
      ]
     },
     "execution_count": 16,
     "metadata": {},
     "output_type": "execute_result"
    }
   ],
   "source": [
    "# analizamos la columna druacion\n",
    "\n",
    "df[\"Franja_duracion\"].value_counts()\n"
   ]
  },
  {
   "cell_type": "code",
   "execution_count": 7,
   "metadata": {},
   "outputs": [],
   "source": [
    "#df.to_excel(file_path_destino, index=False)"
   ]
  },
  {
   "cell_type": "code",
   "execution_count": 23,
   "metadata": {},
   "outputs": [],
   "source": [
    "sh = gc.create(file_path_destino)\n"
   ]
  },
  {
   "cell_type": "code",
   "execution_count": 25,
   "metadata": {},
   "outputs": [],
   "source": [
    "# reemplazamos datetime por string\n",
    "df = df.applymap(\n",
    "    lambda x: x.strftime(\"%Y-%m-%d %H:%M:%S\")\n",
    "    if isinstance(x, (pd.Timestamp, datetime)) and not pd.isnull(x) else x\n",
    ")\n",
    "\n",
    "# reemplazamos nulls por ''\n",
    "df = df.applymap(lambda x: '' if pd.isnull(x) else x)"
   ]
  },
  {
   "cell_type": "code",
   "execution_count": 26,
   "metadata": {},
   "outputs": [
    {
     "data": {
      "text/plain": [
       "{'spreadsheetId': '125_kQTGguLjXUYeqQ-0c84DPdardr-e4Ig2wp-MFHsM',\n",
       " 'updatedRange': \"'Hoja 1'!A1:J4180\",\n",
       " 'updatedRows': 4180,\n",
       " 'updatedColumns': 10,\n",
       " 'updatedCells': 41800}"
      ]
     },
     "execution_count": 26,
     "metadata": {},
     "output_type": "execute_result"
    }
   ],
   "source": [
    "sh = gc.open(file_path_destino)\n",
    "worksheet = sh.sheet1\n",
    "worksheet.update([df.columns.values.tolist()] + df.values.tolist())"
   ]
  }
 ],
 "metadata": {
  "kernelspec": {
   "display_name": "Python 3",
   "language": "python",
   "name": "python3"
  },
  "language_info": {
   "codemirror_mode": {
    "name": "ipython",
    "version": 3
   },
   "file_extension": ".py",
   "mimetype": "text/x-python",
   "name": "python",
   "nbconvert_exporter": "python",
   "pygments_lexer": "ipython3",
   "version": "3.8.2"
  }
 },
 "nbformat": 4,
 "nbformat_minor": 2
}
