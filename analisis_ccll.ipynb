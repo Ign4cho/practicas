{
 "cells": [
  {
   "cell_type": "code",
   "execution_count": null,
   "metadata": {},
   "outputs": [],
   "source": [
    "import pandas as pd\n",
    "from datetime import datetime\n",
    "import gspread as gs"
   ]
  },
  {
   "cell_type": "code",
   "execution_count": null,
   "metadata": {},
   "outputs": [],
   "source": [
    "# Ruta del archivo .xlsx\n",
    "file_path = \"CCLL.xlsx\"\n",
    "file_path_destino = \"CCLL_procesado.xlsx\"\n",
    "credentials_filename='credenciales\\client_secret_290615798724-sg1nk4latali6a8akhe169r66gg7hmd8.apps.googleusercontent.com.json'\n",
    "\n",
    "# Fecha de inicio y fin de la revisión\n",
    "\n",
    "fecha_inicial = datetime(2024, 8, 1)\n",
    "fecha_final = datetime(2024, 8, 10)\n",
    "\n",
    "# Lee el archivo Excel\n",
    "df = pd.read_excel(file_path)"
   ]
  },
  {
   "cell_type": "code",
   "execution_count": null,
   "metadata": {},
   "outputs": [],
   "source": []
  }
 ],
 "metadata": {
  "language_info": {
   "name": "python"
  }
 },
 "nbformat": 4,
 "nbformat_minor": 2
}
