{
  "cells": [
    {
      "cell_type": "markdown",
      "metadata": {
        "id": "view-in-github",
        "colab_type": "text"
      },
      "source": [
        "<a href=\"https://colab.research.google.com/github/Ign4cho/practicas/blob/main/transfomacion_csv.ipynb\" target=\"_parent\"><img src=\"https://colab.research.google.com/assets/colab-badge.svg\" alt=\"Open In Colab\"/></a>"
      ]
    },
    {
      "cell_type": "code",
      "execution_count": null,
      "metadata": {
        "id": "_m81LX5d-3ep"
      },
      "outputs": [],
      "source": [
        "import pandas as pd\n",
        "from datetime import datetime\n",
        "import gspread as gs\n",
        "import numpy as np\n",
        "from google.colab import auth\n",
        "from google.auth import default"
      ]
    },
    {
      "cell_type": "markdown",
      "metadata": {
        "id": "YdpGGPQv-3eu"
      },
      "source": [
        "# Revisión CSV\n",
        "falta implementar\n",
        "\n",
        "- tomar fecha de inicio y fecha de fin\n",
        "- que hacer con las que tienen salida y no entrada\n",
        "\n",
        "me gustaría implementar\n",
        "- hojas auxiliares con campos calculados y tablas auxiliares\n",
        "  - ver que hojas se podrían calcular\n",
        "- en otra tabla se pueden mapear\n",
        "    - \"ORIGEN\" y \"ORIGENDOCID\"\n",
        "    - ESTADO y IDESTADO\n",
        "    - DOCUMENTOSITUCION y DOCUMENTOSITUACIONID\n",
        "    - USUARIOREGISTRO y USUARIOREGISTROID creo que son lo mismo\n",
        "    - USUARIOREGISTROID, USUARIOREGISTROCUENTA y USUARIOREGISTRONOMBRE\n",
        "    - DOCUMENTOESPECIALIDADID y DOCUMENTOESPECIALIDAD\n",
        "    - DOCUMENTOOCUPACIONID y DOCUMENTOOCUPACION\n",
        "\n",
        "arreglar\n",
        "-"
      ]
    },
    {
      "cell_type": "markdown",
      "source": [
        "# Carga de datos"
      ],
      "metadata": {
        "id": "tGo5QLQIprup"
      }
    },
    {
      "cell_type": "code",
      "execution_count": null,
      "metadata": {
        "colab": {
          "base_uri": "https://localhost:8080/"
        },
        "collapsed": true,
        "id": "MRE5TbfP-3ey",
        "outputId": "f8152bce-9e95-4cc6-9a04-20f77165ed58"
      },
      "outputs": [
        {
          "output_type": "stream",
          "name": "stdout",
          "text": [
            "Mounted at /content/drive\n"
          ]
        }
      ],
      "source": [
        "#cargamos las credenciales, este código es del ejemplo de colab\n",
        "auth.authenticate_user()\n",
        "credenciales, _ = default()\n",
        "gc = gs.authorize(credenciales)\n",
        "\n",
        "#montamos el drive\n",
        "from google.colab import drive\n",
        "drive.mount('/content/drive')"
      ]
    },
    {
      "cell_type": "code",
      "source": [
        "# importamos desde drive\n",
        "file_path = '/content/drive/MyDrive/Práctica Profesional/VW_SGR_REVISIONDOCUMENTOS_202409122100.csv'\n",
        "df = pd.read_csv(file_path)\n",
        "# almacenamos la fecha del .csv\n",
        "fecha = file_path.split(\"_\")[-1].split(\".\")[0]"
      ],
      "metadata": {
        "id": "TnaM5wxkLHKu"
      },
      "execution_count": null,
      "outputs": []
    },
    {
      "cell_type": "code",
      "execution_count": null,
      "metadata": {
        "id": "42C5LueH-3ez"
      },
      "outputs": [],
      "source": [
        "# donde se va a guardar el archivo de salida\n",
        "#el id carpeta destino es necesario para crear el archivo en caso de ser necesario\n",
        "\n",
        "file_path_destino = \"revsion_csv\"\n",
        "id_carpeta_destino = \"1oMTHv24S5rNlxhwignHef2_9HlrmpTwh\"\n",
        "\n",
        "\n",
        "# Fecha de inicio y fin de la revisión\n",
        "\n",
        "fecha_inicial = datetime(2024, 8, 1)\n",
        "fecha_final = datetime(2024, 8, 10)\n"
      ]
    },
    {
      "cell_type": "markdown",
      "source": [
        "# Transformación"
      ],
      "metadata": {
        "id": "alxCjUe-pwp8"
      }
    },
    {
      "cell_type": "code",
      "execution_count": null,
      "metadata": {
        "id": "YRbRg9Tk-3e1"
      },
      "outputs": [],
      "source": [
        "#eliminamos las columnas no relevantes para el análisis\n",
        "\n",
        "columnas_no_tenidas_en_cuenta = [\n",
        " 'FECHA_REGISTRO',\n",
        " 'DOCO_EMPR_RUT',\n",
        " 'DOCO_CONT_ID',\n",
        " 'DOCUMENTOSITUCION',\n",
        " 'DOCUMENTOESPECIALIDAD',\n",
        " 'FECHA_INICIO_DOCUMENTO',\n",
        " 'FECHA_FIN_DOCUMENTO',\n",
        " 'DOCUMENTOVIGENCIA',\n",
        " 'DOCO_TIPO_VALIDACION',\n",
        " 'DOCO_CONT_ID'\n",
        "]\n",
        "\n",
        "df.drop(columnas_no_tenidas_en_cuenta, axis=1, inplace=True)\n"
      ]
    },
    {
      "cell_type": "code",
      "execution_count": null,
      "metadata": {
        "colab": {
          "base_uri": "https://localhost:8080/"
        },
        "id": "lFfCTLIh-3e2",
        "outputId": "1b71dddb-be2a-4f28-fcf9-45987dd359a2"
      },
      "outputs": [
        {
          "output_type": "execute_result",
          "data": {
            "text/plain": [
              "(58491, 19)"
            ]
          },
          "metadata": {},
          "execution_count": 12
        }
      ],
      "source": [
        "df.shape"
      ]
    },
    {
      "cell_type": "code",
      "execution_count": null,
      "metadata": {
        "id": "w7NVmtBa-3e3"
      },
      "outputs": [],
      "source": [
        "# Creamos la columna tipo, en base a la columna estado.\n",
        "# Si el estado es \"Enviado\", el tipo es de \"Entrada\"\n",
        "# Si el estado es \"Rechazado\" o \"Validado\", el tipo es de \"Salida\"\n",
        "\n",
        "df[\"TIPO\"] = df[\"ESTADO\"].apply(lambda x: \"Entrada\" if x == \"Enviado\" else \"Salida\")"
      ]
    },
    {
      "cell_type": "code",
      "execution_count": null,
      "metadata": {
        "id": "lJiDDlDe-3e4"
      },
      "outputs": [],
      "source": [
        "# Convertimos la columna FECHA_REGISTRO_HH, en formato aaaa-mm-dd hh:mm:ss.mmm a datetime\n",
        "df[\"FECHA_REGISTRO_HH\"] = pd.to_datetime(df[\"FECHA_REGISTRO_HH\"], format=\"%Y-%m-%d %H:%M:%S.%f\")\n"
      ]
    },
    {
      "cell_type": "code",
      "execution_count": null,
      "metadata": {
        "id": "ScCDMoWR-3e5"
      },
      "outputs": [],
      "source": [
        "#creamos dos dataframes, uno con los documentos de entrada y otro con los de salida\n",
        "df_entrada = df[df[\"TIPO\"] == \"Entrada\"]\n",
        "df_salida = df[df[\"TIPO\"] == \"Salida\"]"
      ]
    },
    {
      "cell_type": "code",
      "execution_count": null,
      "metadata": {
        "id": "EyKqdc3k-3e7"
      },
      "outputs": [],
      "source": [
        "columnas_eliminadas_salida = ['ORIGENDOCID', 'ORIGEN', 'DOCO_TIDO_ID',\n",
        "       'ID_ESTADO', 'DOCUMENTOSITUACIONID', 'USUARIOREGISTRO',\n",
        "       'USUARIOREGISTROCUENTA', 'USUARIOREGISTRONOMBRE',\n",
        "       'FECHA_INGRESO_DOCUMENTO', 'MOTIVO_RECHAZO', 'DOCUMENTOESPECIALIDADID',\n",
        "       'DOCUMENTOOCUPACIONID', 'DOCUMENTOOCUPACION',\n",
        "       'DOCUMENTOCERTOCUPACIONID', 'DOCUMENTOCERTOCUPACION', 'TIPO']\n"
      ]
    },
    {
      "cell_type": "code",
      "execution_count": null,
      "metadata": {
        "id": "20y8HrGy-3e8"
      },
      "outputs": [],
      "source": [
        "# del dataframe de salidas, nos interesa conservar las columnas\n",
        "# FECHA_REGISTRO_HH, ESTADO, USUARIOREGISTROID, pero renombramos a\n",
        "# FECHA_SALIDA, ESTADO_SALIDA, USUARIOID_SALIDA  para luego poder hacer el merge\n",
        "df_salida = df_salida.rename(columns={\"FECHA_REGISTRO_HH\": \"FECHA_SALIDA\", \"ESTADO\": \"ESTADO_SALIDA\", \"USUARIOREGISTROID\": \"USUARIOID_SALIDA\"})\n",
        "df_salida.drop(\n",
        "       columnas_eliminadas_salida\n",
        "       , axis=1, inplace=True)\n"
      ]
    },
    {
      "cell_type": "code",
      "execution_count": null,
      "metadata": {
        "id": "nWMNs2ah-3e9"
      },
      "outputs": [],
      "source": [
        "# hacemos el merge, en base al doco_id, lo hacemos de tipo left para conservar los documentos de entrada\n",
        "df_merged = pd.merge(df_entrada, df_salida, on=\"DOCO_ID\", how=\"left\")\n"
      ]
    },
    {
      "cell_type": "code",
      "execution_count": null,
      "metadata": {
        "id": "WDBhKdpF-3e-"
      },
      "outputs": [],
      "source": [
        "#Agregamos una columna con la diferencia de tiempo entre entrada y salida de los documentos en horas\n",
        "# en caso de no haber fecha salida, la columna se rrrellena con NaN\n",
        "# en caso de no haber fecha de registro, la columna se rellena con NaN\n",
        "\n",
        "df_merged[\"DIFERENCIA_HORAS\"] = df_merged.apply(\n",
        "    lambda row: (row[\"FECHA_SALIDA\"] - row[\"FECHA_REGISTRO_HH\"]).total_seconds() / 3600\n",
        "    if pd.notnull(row[\"FECHA_SALIDA\"]) and pd.notnull(row[\"FECHA_REGISTRO_HH\"]) else np.nan,\n",
        "    axis=1\n",
        ")"
      ]
    },
    {
      "cell_type": "code",
      "execution_count": null,
      "metadata": {
        "id": "tbhZosFT-3e_"
      },
      "outputs": [],
      "source": [
        "# Definimos el umbral de 48 horas\n",
        "umbral = 48\n",
        "\n",
        "# Agregamos un campo de desviación respecto al umbral\n",
        "df_merged[\"DESVIACION\"] = df_merged[\"DIFERENCIA_HORAS\"] - umbral\n",
        "\n",
        "# Determinamos el estado, teniendo en cuenta la desviación y los documentos\n",
        "# sin salida\n",
        "\n",
        "df_merged['estado'] = df_merged.apply(\n",
        "    lambda row: 'Sin gestionar' if pd.isna(row['FECHA_SALIDA'])\n",
        "    else 'Sin entrada' if pd.isna(row['FECHA_REGISTRO_HH'])\n",
        "    else 'Fuera de plazo' if row['DESVIACION'] > 0\n",
        "    else 'En plazo' if row['DESVIACION'] < 0\n",
        "    else 'Igual',\n",
        "    axis=1\n",
        ")\n"
      ]
    },
    {
      "cell_type": "code",
      "execution_count": null,
      "metadata": {
        "id": "Z4YiFvA6-3e_"
      },
      "outputs": [],
      "source": [
        "# Obtener el mes actual y los tres meses anteriores\n",
        "hoy = datetime.now()\n",
        "mes_actual = hoy.month\n",
        "año_actual = hoy.year\n",
        "\n",
        "# Crear una lista de los tres meses anteriores y el mes actual\n",
        "meses_validos = [(mes_actual - i - 1) % 12 + 1 for i in range(4)]\n",
        "año_valido = año_actual if mes_actual in meses_validos else año_actual - 1\n",
        "\n",
        "# Función para obtener la etiqueta del mes\n",
        "def etiqueta_mes(fecha):\n",
        "    mes = fecha.month\n",
        "    año = fecha.year\n",
        "\n",
        "    if mes == mes_actual and año == año_actual:\n",
        "        return f\"{hoy.strftime('%B')} {año_actual}\"\n",
        "\n",
        "    if mes in meses_validos:\n",
        "        return f\"{fecha.strftime('%B')} {año}\"\n",
        "\n",
        "    return 'Fuera de rango'\n",
        "\n",
        "# Aplicar la función al DataFrame\n",
        "df_merged['etiqueta_mes'] = df_merged['FECHA_REGISTRO_HH'].apply(etiqueta_mes)"
      ]
    },
    {
      "cell_type": "code",
      "execution_count": null,
      "metadata": {
        "id": "0WguJQft-3fA"
      },
      "outputs": [],
      "source": [
        "# filtramos el dataframe en por fecha de salida\n",
        "\n",
        "df_merged = df_merged[(df_merged['FECHA_SALIDA'] >= fecha_inicial) & (df_merged['FECHA_SALIDA'] <= fecha_final)]"
      ]
    },
    {
      "cell_type": "markdown",
      "source": [
        "# Preaparamos una segunda hoja para el análisis de datos de los docs procesados por IA\n"
      ],
      "metadata": {
        "id": "NebdAWUeizHI"
      }
    },
    {
      "cell_type": "code",
      "source": [
        "# creamos un segundo dataframe con los documentos gestionados con IA\n",
        "# el id de usurario de la IA es 6, el USUARIOREGISTROCUENTA SAT_INTEGRACION\n",
        "df_SAT = df_merged[df_merged['USUARIOID_SALIDA'] == 6]\n",
        "\n",
        "# convertimos los timestamps a string, teniendo en cuenta que pueden haber NaTs\n",
        "\n",
        "df_SAT = df_SAT.map(\n",
        "    lambda x: x.strftime(\"%Y-%m-%d %H:%M:%S\")\n",
        "    if isinstance(x, (pd.Timestamp, datetime)) and not pd.isnull(x) else x\n",
        ")\n",
        "\n",
        "# reemplazamos NaNs con espccios vacíos\n",
        "df_SAT= df_SAT.map(lambda x: '' if pd.isnull(x) else x)\n"
      ],
      "metadata": {
        "collapsed": true,
        "id": "GXLLriTigmbS"
      },
      "execution_count": null,
      "outputs": []
    },
    {
      "cell_type": "code",
      "source": [
        "#exportamos los datos como segunda página del Sheet\n",
        "try:\n",
        "  sh = gc.open(file_path_destino)\n",
        "except gs.SpreadsheetNotFound:\n",
        "  sh = gc.create(file_path_destino, folder_id=id_carpeta_destino)\n",
        "\n",
        "nombre_hoja = 'SAT_integracion'\n",
        "try:\n",
        "  worksheet = sh.worksheet(nombre_hoja)\n",
        "except gs.WorksheetNotFound:\n",
        "  sh.add_worksheet(nombre_hoja, rows=100000, cols=80)\n",
        "  worksheet = sh.worksheet(nombre_hoja)\n",
        "worksheet.update([df_SAT.columns.values.tolist()] + df_SAT.values.tolist())"
      ],
      "metadata": {
        "colab": {
          "base_uri": "https://localhost:8080/"
        },
        "id": "7BeuGdmAjGLE",
        "outputId": "433529b9-fba1-4f69-f4b0-b25f86ab51fc"
      },
      "execution_count": null,
      "outputs": [
        {
          "output_type": "execute_result",
          "data": {
            "text/plain": [
              "{'spreadsheetId': '1K6qyS0JNMn2MxryDT9orMpEIbRFufDQETVSNHDn9Q7E',\n",
              " 'updatedRange': 'SAT_integracion!A1:AA3380',\n",
              " 'updatedRows': 3380,\n",
              " 'updatedColumns': 27,\n",
              " 'updatedCells': 91260}"
            ]
          },
          "metadata": {},
          "execution_count": 46
        }
      ]
    },
    {
      "cell_type": "markdown",
      "source": [
        "# Exportación a Google drive"
      ],
      "metadata": {
        "id": "J9pv2yzijCkh"
      }
    },
    {
      "cell_type": "code",
      "execution_count": null,
      "metadata": {
        "id": "DJsJs9rd-3fB"
      },
      "outputs": [],
      "source": [
        "#Preparamos la exprotación a sheets\n",
        "#  es necesario convertir los timestamps a string, en formato yyyy-mm-dd hh:mm:ss\n",
        "# convertimos los timestamps a string, teniendo en cuenta que pueden haber NaTs\n",
        "\n",
        "df_merged = df_merged.map(\n",
        "    lambda x: x.strftime(\"%Y-%m-%d %H:%M:%S\")\n",
        "    if isinstance(x, (pd.Timestamp, datetime)) and not pd.isnull(x) else x\n",
        ")\n",
        "\n",
        "# reemplazamos NaNs con espccios vacíos\n",
        "df_merged= df_merged.map(lambda x: '' if pd.isnull(x) else x)\n",
        "\n"
      ]
    },
    {
      "cell_type": "code",
      "execution_count": null,
      "metadata": {
        "colab": {
          "base_uri": "https://localhost:8080/"
        },
        "id": "RavyR6li-3fD",
        "outputId": "68ba4480-4274-4e55-811e-3fbf03d09547"
      },
      "outputs": [
        {
          "output_type": "execute_result",
          "data": {
            "text/plain": [
              "{'spreadsheetId': '1K6qyS0JNMn2MxryDT9orMpEIbRFufDQETVSNHDn9Q7E',\n",
              " 'updatedRange': \"'Hoja 1'!A1:AA29634\",\n",
              " 'updatedRows': 29634,\n",
              " 'updatedColumns': 27,\n",
              " 'updatedCells': 800118}"
            ]
          },
          "metadata": {},
          "execution_count": 38
        }
      ],
      "source": [
        "# exportamos el dataframe a sheets\n",
        "try:\n",
        "  sh = gc.open(file_path_destino)\n",
        "except gs.SpreadsheetNotFound:\n",
        "  sh = gc.create(file_path_destino, folder_id=id_carpeta_destino)\n",
        "\n",
        "worksheet = sh.sheet1\n",
        "worksheet.update([df_merged.columns.values.tolist()] + df_merged.values.tolist())\n"
      ]
    }
  ],
  "metadata": {
    "kernelspec": {
      "display_name": "Python 3",
      "language": "python",
      "name": "python3"
    },
    "language_info": {
      "codemirror_mode": {
        "name": "ipython",
        "version": 3
      },
      "file_extension": ".py",
      "mimetype": "text/x-python",
      "name": "python",
      "nbconvert_exporter": "python",
      "pygments_lexer": "ipython3",
      "version": "3.8.2"
    },
    "colab": {
      "provenance": [],
      "include_colab_link": true
    }
  },
  "nbformat": 4,
  "nbformat_minor": 0
}