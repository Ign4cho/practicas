{
  "cells": [
    {
      "cell_type": "code",
      "source": [
        "from google.colab import drive\n",
        "drive.mount('/content/drive')"
      ],
      "metadata": {
        "colab": {
          "base_uri": "https://localhost:8080/"
        },
        "id": "bFLb_kMlLwSL",
        "outputId": "c3399e26-a5a9-4915-fb2b-4592681512b7"
      },
      "execution_count": 1,
      "outputs": [
        {
          "output_type": "stream",
          "name": "stdout",
          "text": [
            "Mounted at /content/drive\n"
          ]
        }
      ]
    },
    {
      "cell_type": "code",
      "execution_count": 2,
      "metadata": {
        "id": "_m81LX5d-3ep"
      },
      "outputs": [],
      "source": [
        "import pandas as pd\n",
        "from datetime import datetime\n",
        "import gspread as gs\n",
        "import numpy as np\n",
        "from google.colab import auth\n",
        "from google.auth import default"
      ]
    },
    {
      "cell_type": "markdown",
      "metadata": {
        "id": "YdpGGPQv-3eu"
      },
      "source": [
        "# Revisión CSV\n",
        "falta implementar\n",
        "\n",
        "- tomar fecha de inicio y fecha de fin\n",
        "- que hacer con las que tienen salida y no entrada\n",
        "\n",
        "me gustaría implementar\n",
        "- hojas auxiliares con campos calculados y tablas auxiliares\n",
        "  - ver que hojas se podrían calcular\n",
        "- en otra tabla se pueden mapear\n",
        "    - \"ORIGEN\" y \"ORIGENDOCID\"\n",
        "    - ESTADO y IDESTADO\n",
        "    - DOCUMENTOSITUCION y DOCUMENTOSITUACIONID\n",
        "    - USUARIOREGISTRO y USUARIOREGISTROID creo que son lo mismo\n",
        "    - USUARIOREGISTROID, USUARIOREGISTROCUENTA y USUARIOREGISTRONOMBRE\n",
        "    - DOCUMENTOESPECIALIDADID y DOCUMENTOESPECIALIDAD\n",
        "    - DOCUMENTOOCUPACIONID y DOCUMENTOOCUPACION\n",
        "\n",
        "arreglar\n",
        "-"
      ]
    },
    {
      "cell_type": "markdown",
      "source": [
        "# Carga de datos"
      ],
      "metadata": {
        "id": "tGo5QLQIprup"
      }
    },
    {
      "cell_type": "code",
      "execution_count": 3,
      "metadata": {
        "collapsed": true,
        "id": "MRE5TbfP-3ey"
      },
      "outputs": [],
      "source": [
        "#cargamos las credenciales, este código es del ejemplo de colab\n",
        "auth.authenticate_user()\n",
        "credenciales, _ = default()\n",
        "gc = gs.authorize(credenciales)"
      ]
    },
    {
      "cell_type": "code",
      "source": [
        "# importamos desde drive\n",
        "file_path = '/content/drive/MyDrive/Práctica Profesional/datasets/VW_SGR_REVISIONDOCUMENTOS_202409180843.csv'\n",
        "df = pd.read_csv(file_path)\n",
        "# almacenamos la fecha del .csv\n",
        "fecha = file_path.split(\"_\")[-1].split(\".\")[0]"
      ],
      "metadata": {
        "id": "TnaM5wxkLHKu"
      },
      "execution_count": 4,
      "outputs": []
    },
    {
      "cell_type": "code",
      "execution_count": 5,
      "metadata": {
        "id": "42C5LueH-3ez"
      },
      "outputs": [],
      "source": [
        "# donde se va a guardar el archivo de salida\n",
        "#el id carpeta destino es necesario para crear el archivo en caso de ser necesario\n",
        "\n",
        "file_path_destino = \"revsion_csv\"\n",
        "id_carpeta_destino = \"1oMTHv24S5rNlxhwignHef2_9HlrmpTwh\"\n",
        "\n",
        "\n",
        "# Fecha de inicio y fin de la revisión\n",
        "\n",
        "fecha_inicial = datetime(2024, 8, 31)\n",
        "fecha_final = datetime(2024, 9, 30)\n"
      ]
    },
    {
      "cell_type": "markdown",
      "source": [
        "# Transformación"
      ],
      "metadata": {
        "id": "alxCjUe-pwp8"
      }
    },
    {
      "cell_type": "code",
      "execution_count": 6,
      "metadata": {
        "id": "YRbRg9Tk-3e1"
      },
      "outputs": [],
      "source": [
        "#eliminamos las columnas no relevantes para el análisis\n",
        "\n",
        "columnas_no_tenidas_en_cuenta = [\n",
        " 'FECHA_REGISTRO',\n",
        " 'DOCO_EMPR_RUT',\n",
        " 'DOCO_CONT_ID',\n",
        " 'DOCUMENTOSITUCION',\n",
        " 'DOCUMENTOESPECIALIDAD',\n",
        " 'FECHA_INICIO_DOCUMENTO',\n",
        " 'FECHA_FIN_DOCUMENTO',\n",
        " 'DOCUMENTOVIGENCIA',\n",
        " 'DOCO_TIPO_VALIDACION',\n",
        " 'DOCO_CONT_ID'\n",
        "]\n",
        "\n",
        "df.drop(columnas_no_tenidas_en_cuenta, axis=1, inplace=True)\n"
      ]
    },
    {
      "cell_type": "code",
      "execution_count": 7,
      "metadata": {
        "colab": {
          "base_uri": "https://localhost:8080/"
        },
        "id": "lFfCTLIh-3e2",
        "outputId": "d5adba4b-3824-4122-a80a-5bbb59d9f5cd"
      },
      "outputs": [
        {
          "output_type": "execute_result",
          "data": {
            "text/plain": [
              "(49432, 19)"
            ]
          },
          "metadata": {},
          "execution_count": 7
        }
      ],
      "source": [
        "df.shape"
      ]
    },
    {
      "cell_type": "code",
      "execution_count": 8,
      "metadata": {
        "id": "w7NVmtBa-3e3"
      },
      "outputs": [],
      "source": [
        "# Creamos la columna tipo, en base a la columna estado.\n",
        "# Si el estado es \"Enviado\", el tipo es de \"Entrada\"\n",
        "# Si el estado es \"Rechazado\" o \"Validado\", el tipo es de \"Salida\"\n",
        "\n",
        "df[\"TIPO\"] = df[\"ESTADO\"].apply(lambda x: \"Entrada\" if x == \"Enviado\" else \"Salida\")"
      ]
    },
    {
      "cell_type": "code",
      "execution_count": 9,
      "metadata": {
        "id": "lJiDDlDe-3e4"
      },
      "outputs": [],
      "source": [
        "# Convertimos la columna FECHA_REGISTRO_HH, en formato aaaa-mm-dd hh:mm:ss.mmm a datetime\n",
        "df[\"FECHA_REGISTRO_HH\"] = pd.to_datetime(df[\"FECHA_REGISTRO_HH\"], format=\"%Y-%m-%d %H:%M:%S.%f\")\n"
      ]
    },
    {
      "cell_type": "code",
      "execution_count": 10,
      "metadata": {
        "id": "Z4YiFvA6-3e_"
      },
      "outputs": [],
      "source": [
        "# Obtener el mes actual y los tres meses anteriores\n",
        "hoy = datetime.now()\n",
        "mes_actual = hoy.month\n",
        "año_actual = hoy.year\n",
        "\n",
        "# Crear una lista de los tres meses anteriores y el mes actual\n",
        "meses_validos = [(mes_actual - i - 1) % 12 + 1 for i in range(4)]\n",
        "año_valido = año_actual if mes_actual in meses_validos else año_actual - 1\n",
        "\n",
        "# Función para obtener la etiqueta del mes\n",
        "def etiqueta_mes(fecha):\n",
        "    mes = fecha.month\n",
        "    año = fecha.year\n",
        "\n",
        "    if mes == mes_actual and año == año_actual:\n",
        "        return f\"{hoy.strftime('%B')} {año_actual}\"\n",
        "\n",
        "    if mes in meses_validos:\n",
        "        return f\"{fecha.strftime('%B')} {año}\"\n",
        "\n",
        "    return 'Fuera de rango'\n",
        "\n",
        "# Aplicar la función al DataFrame\n",
        "df['etiqueta_mes'] = df['FECHA_REGISTRO_HH'].apply(etiqueta_mes)"
      ]
    },
    {
      "cell_type": "code",
      "execution_count": 11,
      "metadata": {
        "id": "ScCDMoWR-3e5"
      },
      "outputs": [],
      "source": [
        "#creamos dos dataframes, uno con los documentos de entrada y otro con los de salida\n",
        "df_entrada = df[df[\"TIPO\"] == \"Entrada\"]\n",
        "df_salida = df[df[\"TIPO\"] == \"Salida\"]"
      ]
    },
    {
      "cell_type": "code",
      "execution_count": 12,
      "metadata": {
        "id": "EyKqdc3k-3e7"
      },
      "outputs": [],
      "source": [
        "columnas_eliminadas_salida = ['ORIGENDOCID', 'ORIGEN', 'DOCO_TIDO_ID',\n",
        "       'ID_ESTADO', 'DOCUMENTOSITUACIONID', 'USUARIOREGISTRO',\n",
        "       'USUARIOREGISTROCUENTA', 'USUARIOREGISTRONOMBRE',\n",
        "       'FECHA_INGRESO_DOCUMENTO', 'MOTIVO_RECHAZO', 'DOCUMENTOESPECIALIDADID',\n",
        "       'DOCUMENTOOCUPACIONID', 'DOCUMENTOOCUPACION',\n",
        "       'DOCUMENTOCERTOCUPACIONID', 'DOCUMENTOCERTOCUPACION', 'TIPO']\n"
      ]
    },
    {
      "cell_type": "code",
      "execution_count": 13,
      "metadata": {
        "id": "20y8HrGy-3e8"
      },
      "outputs": [],
      "source": [
        "# del dataframe de salidas, nos interesa conservar las columnas\n",
        "# FECHA_REGISTRO_HH, ESTADO, USUARIOREGISTROID, pero renombramos a\n",
        "# FECHA_SALIDA, ESTADO_SALIDA, USUARIOID_SALIDA  para luego poder hacer el merge\n",
        "df_salida = df_salida.rename(columns={\"FECHA_REGISTRO_HH\": \"FECHA_SALIDA\", \"ESTADO\": \"ESTADO_SALIDA\", \"USUARIOREGISTROID\": \"USUARIOID_SALIDA\", \"etiqueta_mes\":\"etiqueta_mes_salida\"})\n",
        "df_salida.drop(\n",
        "       columnas_eliminadas_salida\n",
        "       , axis=1, inplace=True)\n"
      ]
    },
    {
      "cell_type": "code",
      "execution_count": 14,
      "metadata": {
        "id": "nWMNs2ah-3e9"
      },
      "outputs": [],
      "source": [
        "# hacemos el merge, en base al doco_id, lo hacemos de tipo left para conservar los documentos de entrada\n",
        "df_merged = pd.merge(df_entrada, df_salida, on=\"DOCO_ID\", how=\"left\")\n"
      ]
    },
    {
      "cell_type": "code",
      "execution_count": 15,
      "metadata": {
        "id": "WDBhKdpF-3e-"
      },
      "outputs": [],
      "source": [
        "#Agregamos una columna con la diferencia de tiempo entre entrada y salida de los documentos en horas\n",
        "# en caso de no haber fecha salida, la columna se rrrellena con NaN\n",
        "# en caso de no haber fecha de registro, la columna se rellena con NaN\n",
        "\n",
        "df_merged[\"DIFERENCIA_HORAS\"] = df_merged.apply(\n",
        "    lambda row: (row[\"FECHA_SALIDA\"] - row[\"FECHA_REGISTRO_HH\"]).total_seconds() / 3600\n",
        "    if pd.notnull(row[\"FECHA_SALIDA\"]) and pd.notnull(row[\"FECHA_REGISTRO_HH\"]) else np.nan,\n",
        "    axis=1\n",
        ")"
      ]
    },
    {
      "cell_type": "code",
      "execution_count": 16,
      "metadata": {
        "id": "tbhZosFT-3e_"
      },
      "outputs": [],
      "source": [
        "# Definimos el umbral de 48 horas\n",
        "umbral = 48\n",
        "\n",
        "# Agregamos un campo de desviación respecto al umbral\n",
        "df_merged[\"DESVIACION\"] = df_merged[\"DIFERENCIA_HORAS\"] - umbral\n",
        "\n",
        "# Determinamos el estado, teniendo en cuenta la desviación y los documentos\n",
        "# sin salida\n",
        "\n",
        "df_merged['estado'] = df_merged.apply(\n",
        "    lambda row: 'Sin gestionar' if pd.isna(row['FECHA_SALIDA'])\n",
        "    else 'Fuera de plazo' if row['DESVIACION'] > 0\n",
        "    else 'En plazo' if row['DESVIACION'] < 0\n",
        "    else 'Igual',\n",
        "    axis=1\n",
        ")\n"
      ]
    },
    {
      "cell_type": "code",
      "source": [
        "# Agregamos columna de IA, los documentos gestionados por IA son los que tienen usuario_salida 6, que corresponde a SAT_INTEGRACIOÓN\n",
        "df_merged['IA'] = df_merged['USUARIOID_SALIDA'] == 6"
      ],
      "metadata": {
        "id": "OPiQAoBzhXzg"
      },
      "execution_count": 17,
      "outputs": []
    },
    {
      "cell_type": "code",
      "execution_count": null,
      "metadata": {
        "id": "0WguJQft-3fA"
      },
      "outputs": [],
      "source": [
        "# filtramos el dataframe en por fecha de salida\n",
        "\n",
        "#df_merged = df_merged[(df_merged['FECHA_SALIDA'] >= fecha_inicial) & (df_merged['FECHA_SALIDA'] <= fecha_final)]"
      ]
    },
    {
      "cell_type": "markdown",
      "source": [
        "# Hoja Colaboradores\n",
        " Preaparamos una segunda hoja para el análisis rendimiento de cada colaborador\n"
      ],
      "metadata": {
        "id": "NebdAWUeizHI"
      }
    },
    {
      "cell_type": "code",
      "source": [
        "nombre_colaborador = {\n",
        "    4937: 'Maria Paula Loiacono',\n",
        "    4730: 'Ezequiel Lebon',\n",
        "    4724: 'Lucas Gomez',\n",
        "    4722: 'Paula Ortega',\n",
        "    210: 'UAC FORMIN',\n",
        "    4721: 'Edgardo Peña Cuevas',\n",
        "    4720: 'Paula Trombino',\n",
        "    4727: 'Isabel Atencia',\n",
        "    4728: 'Franco Garcia',\n",
        "    4726: 'Carolina Cortez',\n",
        "    4942: 'María Eugenia Amarfil',\n",
        "    4939: 'Pamela Pringles',\n",
        "    4941: 'Santiago Vargas',\n",
        "    4940: 'Mariel Castro',\n",
        "    6: 'SAT_INTEGRACION'\n",
        "}\n",
        "\n",
        "# Generar la tabla resumen por usuario_salidaid\n",
        "df_colaborador = df_merged.groupby('USUARIOID_SALIDA').agg(\n",
        "    cantidad_documentos=('DOCO_ID', 'count'),\n",
        "    cantidad_validados=('ESTADO_SALIDA', lambda x: (x == 'Validado').sum()),\n",
        "    cantidad_rechazados=('ESTADO_SALIDA', lambda x: (x == 'Rechazado').sum()),\n",
        "    cantidad_fuera_plazo = ('estado', lambda x: (x == 'Fuera de plazo').sum()),\n",
        ").reset_index()\n",
        "\n",
        "# Agregar el nombre del colaborador\n",
        "df_colaborador['nombre_colaborador'] = df_colaborador['USUARIOID_SALIDA'].map(nombre_colaborador)\n",
        "\n",
        "print(df_colaborador)"
      ],
      "metadata": {
        "colab": {
          "base_uri": "https://localhost:8080/"
        },
        "id": "RB6iAFZBmWgu",
        "outputId": "30516f8a-8913-4e0f-d1ba-4942d0949a1c"
      },
      "execution_count": 26,
      "outputs": [
        {
          "output_type": "stream",
          "name": "stdout",
          "text": [
            "    USUARIOID_SALIDA  cantidad_documentos  cantidad_validados  \\\n",
            "0                6.0                 2910                2910   \n",
            "1              210.0                 1326                1257   \n",
            "2             2210.0                    6                   6   \n",
            "3             2226.0                    9                   7   \n",
            "4             3309.0                   21                  16   \n",
            "5             3999.0                   25                  24   \n",
            "6             4720.0                  119                 101   \n",
            "7             4724.0                 1792                1601   \n",
            "8             4726.0                 1763                1295   \n",
            "9             4728.0                   39                  39   \n",
            "10            4730.0                 1490                1332   \n",
            "11            4937.0                 5271                5197   \n",
            "12            4939.0                  782                 666   \n",
            "13            4940.0                 2776                2523   \n",
            "14            4941.0                 2740                2438   \n",
            "15            4942.0                 2254                2092   \n",
            "\n",
            "    cantidad_rechazados  cantidad_fuera_plazo     nombre_colaborador  \n",
            "0                     0                     1        SAT_INTEGRACION  \n",
            "1                    69                    63             UAC FORMIN  \n",
            "2                     0                     0                    NaN  \n",
            "3                     2                     1                    NaN  \n",
            "4                     5                     0                    NaN  \n",
            "5                     1                     0                    NaN  \n",
            "6                    18                     5         Paula Trombino  \n",
            "7                   191                    73            Lucas Gomez  \n",
            "8                   468                   193        Carolina Cortez  \n",
            "9                     0                     0          Franco Garcia  \n",
            "10                  158                    31         Ezequiel Lebon  \n",
            "11                   74                   253   Maria Paula Loiacono  \n",
            "12                  116                    35        Pamela Pringles  \n",
            "13                  253                   106          Mariel Castro  \n",
            "14                  302                    94        Santiago Vargas  \n",
            "15                  162                   212  María Eugenia Amarfil  \n"
          ]
        }
      ]
    },
    {
      "cell_type": "code",
      "source": [
        "\n",
        "\n",
        "# convertimos los timestamps a string, teniendo en cuenta que pueden haber NaTs\n",
        "\n",
        "df_colaborador = df_colaborador.map(\n",
        "    lambda x: x.strftime(\"%Y-%m-%d %H:%M:%S\")\n",
        "    if isinstance(x, (pd.Timestamp, datetime)) and not pd.isnull(x) else x\n",
        ")\n",
        "\n",
        "# reemplazamos NaNs con espccios vacíos\n",
        "df_colaborador= df_colaborador.map(lambda x: '' if pd.isnull(x) else x)\n"
      ],
      "metadata": {
        "collapsed": true,
        "id": "GXLLriTigmbS"
      },
      "execution_count": 27,
      "outputs": []
    },
    {
      "cell_type": "code",
      "source": [
        "#exportamos los datos como segunda página del Sheet\n",
        "try:\n",
        "  sh = gc.open(file_path_destino)\n",
        "except gs.SpreadsheetNotFound:\n",
        "  sh = gc.create(file_path_destino, folder_id=id_carpeta_destino)\n",
        "\n",
        "nombre_hoja = 'Colaboradores'\n",
        "try:\n",
        "  worksheet = sh.worksheet(nombre_hoja)\n",
        "except gs.WorksheetNotFound:\n",
        "  sh.add_worksheet(nombre_hoja, rows=1000, cols=80)\n",
        "  worksheet = sh.worksheet(nombre_hoja)\n",
        "worksheet.update([df_colaborador.columns.values.tolist()] + df_colaborador.values.tolist())"
      ],
      "metadata": {
        "colab": {
          "base_uri": "https://localhost:8080/"
        },
        "id": "7BeuGdmAjGLE",
        "outputId": "c5bbd8d3-fc80-4476-f8a5-95e5ced14f7e"
      },
      "execution_count": 28,
      "outputs": [
        {
          "output_type": "execute_result",
          "data": {
            "text/plain": [
              "{'spreadsheetId': '1K6qyS0JNMn2MxryDT9orMpEIbRFufDQETVSNHDn9Q7E',\n",
              " 'updatedRange': 'Colaboradores!A1:F17',\n",
              " 'updatedRows': 17,\n",
              " 'updatedColumns': 6,\n",
              " 'updatedCells': 102}"
            ]
          },
          "metadata": {},
          "execution_count": 28
        }
      ]
    },
    {
      "cell_type": "markdown",
      "source": [
        "# Exportación a Google drive"
      ],
      "metadata": {
        "id": "J9pv2yzijCkh"
      }
    },
    {
      "cell_type": "code",
      "execution_count": null,
      "metadata": {
        "id": "DJsJs9rd-3fB"
      },
      "outputs": [],
      "source": [
        "#Preparamos la exprotación a sheets\n",
        "#  es necesario convertir los timestamps a string, en formato yyyy-mm-dd hh:mm:ss\n",
        "# convertimos los timestamps a string, teniendo en cuenta que pueden haber NaTs\n",
        "\n",
        "df_merged = df_merged.map(\n",
        "    lambda x: x.strftime(\"%Y-%m-%d %H:%M:%S\")\n",
        "    if isinstance(x, (pd.Timestamp, datetime)) and not pd.isnull(x) else x\n",
        ")\n",
        "\n",
        "# reemplazamos NaNs con espccios vacíos\n",
        "df_merged= df_merged.map(lambda x: '' if pd.isnull(x) else x)\n",
        "\n"
      ]
    },
    {
      "cell_type": "code",
      "execution_count": null,
      "metadata": {
        "colab": {
          "base_uri": "https://localhost:8080/"
        },
        "id": "RavyR6li-3fD",
        "outputId": "fe90eeb8-0b86-4d32-b655-edc77af2d04a"
      },
      "outputs": [
        {
          "output_type": "execute_result",
          "data": {
            "text/plain": [
              "{'spreadsheetId': '1K6qyS0JNMn2MxryDT9orMpEIbRFufDQETVSNHDn9Q7E',\n",
              " 'updatedRange': \"'Hoja 1'!A1:AC24401\",\n",
              " 'updatedRows': 24401,\n",
              " 'updatedColumns': 29,\n",
              " 'updatedCells': 707629}"
            ]
          },
          "metadata": {},
          "execution_count": 22
        }
      ],
      "source": [
        "# exportamos el dataframe a sheets\n",
        "try:\n",
        "  sh = gc.open(file_path_destino)\n",
        "except gs.SpreadsheetNotFound:\n",
        "  sh = gc.create(file_path_destino, folder_id=id_carpeta_destino)\n",
        "\n",
        "worksheet = sh.sheet1\n",
        "worksheet.update([df_merged.columns.values.tolist()] + df_merged.values.tolist())\n"
      ]
    },
    {
      "cell_type": "code",
      "source": [
        "df_merged.shape"
      ],
      "metadata": {
        "colab": {
          "base_uri": "https://localhost:8080/"
        },
        "id": "GDoJRjd_8qa-",
        "outputId": "059ca633-fc94-4d38-afa6-5d9a7aa58f34"
      },
      "execution_count": null,
      "outputs": [
        {
          "output_type": "execute_result",
          "data": {
            "text/plain": [
              "(24400, 29)"
            ]
          },
          "metadata": {},
          "execution_count": 34
        }
      ]
    }
  ],
  "metadata": {
    "kernelspec": {
      "display_name": "Python 3",
      "language": "python",
      "name": "python3"
    },
    "language_info": {
      "codemirror_mode": {
        "name": "ipython",
        "version": 3
      },
      "file_extension": ".py",
      "mimetype": "text/x-python",
      "name": "python",
      "nbconvert_exporter": "python",
      "pygments_lexer": "ipython3",
      "version": "3.8.2"
    },
    "colab": {
      "provenance": []
    }
  },
  "nbformat": 4,
  "nbformat_minor": 0
}